{
 "cells": [
  {
   "cell_type": "markdown",
   "id": "b269fe53-c3c6-4612-a6c4-8c0a11b7a44a",
   "metadata": {
    "tags": []
   },
   "source": [
    "# Ajustement de relations d'échelle en Python avec LIRA\n",
    "\n",
    "Les codes dans ce `git` offrent une interface `python` à la librairie `LIRA`, originalement écrite en `R`.\n",
    "Ce notebook présente un guide d'utilisateur pour les modules principaux de la librairie.\n",
    "Pour plus de détails scientifiques sur la modélisation probabiliste des relations masse-observable, voir [1, 2, 3]."
   ]
  },
  {
   "cell_type": "markdown",
   "id": "77bccea7-3fc8-474a-96a2-c4a0efa6e6c7",
   "metadata": {},
   "source": [
    "# Installation des dépendances\n",
    "\n",
    "## Sur MacOS\n",
    "\n",
    "```sh\n",
    "brew install R\n",
    "brew install jags\n",
    "pip3 install rpy2\n",
    "```\n",
    "Puis ouvrir une session `R` (en tapant `R` dans un terminal) et lancer:\n",
    "```R\n",
    "install.packages('lira')\n",
    "```\n",
    "\n",
    "## Sur les serveurs du LPSC\n",
    "\n",
    "Les dépendances devraient déjà être installées, au moins sur `lpsc-nika2e`. Sinon, \n",
    "\n",
    "```sh\n",
    "pip3 install --user rpy2\n",
    "```\n",
    "et (demander à Juan) :\n",
    "```sh\n",
    "sudo apt install R\n",
    "sudo apt install rjags\n",
    "```\n",
    "Puis ouvrir une session `R` (en tapant `R` dans un terminal) et lancer:\n",
    "```R\n",
    "install.packages('lira')\n",
    "```"
   ]
  },
  {
   "cell_type": "markdown",
   "id": "55c098b0-af13-4e25-9105-397168d402b5",
   "metadata": {
    "tags": []
   },
   "source": [
    "# Notations\n",
    "\n",
    "Ces codes utilisent au mieux les mêmes notations que `LIRA` pour les noms de variables. Lorsque ce n'est pas possible (`R` permettant d'utiliser `.` dans des noms de variables et `python` non), les `.` sont remplacés par des `_`.\n",
    "\n",
    "La signification de chaque grandeur et son rôle dans la relation d'échelle est expliquée avec un grand niveau de détail dans les sections 2&3 de [2].\n",
    "La correspondance entre les grandeurs physiques et les noms de variable est expliquée dans la Table 1 de [2], copiée ci-dessous.\n",
    "\n",
    "![LIRA_table1](./LIRA_table1.png)"
   ]
  },
  {
   "cell_type": "markdown",
   "id": "aeaf5936-a374-4762-bfdc-49d091465bbe",
   "metadata": {},
   "source": [
    "# Génération d'un échantillon et ajustement avec LIRA\n",
    "\n",
    "Voici une illustration d'utilisation de l'interface `Python`, en utilisant un échantillon arbitraire avec les propriétés suivantes :\n",
    "\n",
    "* $ Z \\sim \\mathcal{N}(0, 1) $ : pour des amas, correspond à un échantillon dont les masses suivent une distribution log-normale.\n",
    "* $ X = Z $                    : le proxy de masse utilisé - e.g. masse hydrostatique ou masse lensing - est non-biaisé et non-dispersé.\n",
    "* $ Y \\sim \\mathcal{N}(1 + X, 0.1^2) $                              : relation d'échelle avec $\\alpha_{Y|Z}=1$, $\\beta_{Y|Z}=1$, $\\sigma_{Y|Z}=0.1$\n",
    "* $ x \\sim \\mathcal{N}(X, 0.1^2), \\; y \\sim \\mathcal{N}(Y, 0.1^2) $ : $x$ et $y$ sont des mesures de $X$ et $Y$ avec des incertitudes gaussiennes non-corrélées.\n"
   ]
  },
  {
   "cell_type": "code",
   "execution_count": 1,
   "id": "a8afe917-2e3b-4f00-b309-5c1fbfa1498e",
   "metadata": {},
   "outputs": [],
   "source": [
    "%matplotlib widget\n",
    "import numpy as np\n",
    "import matplotlib.pyplot as plt\n",
    "from fisc import Data\n",
    "\n",
    "n = 100\n",
    "truth = {\n",
    "    \"alpha.YIZ\": 1.0, \"beta.YIZ\": 1.0, \"sigma.YIZ.0\": 0.1,\n",
    "    \"alpha.XIZ\": 0.0, \"beta.XIZ\": 1.0, \"sigma.XIZ.0\": 0.0,\n",
    "}\n",
    "\n",
    "np.random.seed(123)\n",
    "Z = np.random.normal(0.0, 1.0, n) # True latent variable, i.e. cluster (log) mass\n",
    "X = np.random.normal( # True value of (log) mass estimator\n",
    "    truth[\"alpha.XIZ\"] + truth[\"beta.XIZ\"] * Z, truth[\"sigma.XIZ.0\"]\n",
    ")\n",
    "Y = np.random.normal( # True value of (log) observable, i.e. mass proxy\n",
    "    truth[\"alpha.YIZ\"] + truth[\"beta.YIZ\"] * Z, truth[\"sigma.YIZ.0\"]\n",
    ")\n",
    "\n",
    "err_x = np.ones(n) * 0.1 # uncertainty on x\n",
    "err_y = np.ones(n) * 0.1 # uncertainty on y\n",
    "x = np.random.normal(X, err_x) # x = noisy measurement of X\n",
    "y = np.random.normal(Y, err_x) # y = noisy measurement of Y\n",
    "\n",
    "d = Data(x, y, err_x, err_y) # The structure to call LIRA"
   ]
  },
  {
   "cell_type": "markdown",
   "id": "a9039de4-1c59-4bbd-94fb-0584de7e4408",
   "metadata": {},
   "source": [
    "La classe `Data` du module `fisc.py` contient des méthodes de classe permettant notamment de manipuler les données.\n",
    "On peut notamment visualiser le jeu de données généré :"
   ]
  },
  {
   "cell_type": "code",
   "execution_count": 2,
   "id": "9f6b8f99-9fce-460c-ae43-d8957186826a",
   "metadata": {},
   "outputs": [
    {
     "data": {
      "application/vnd.jupyter.widget-view+json": {
       "model_id": "dbc9de5990614fb9949e45d6d3d4031e",
       "version_major": 2,
       "version_minor": 0
      },
      "text/plain": [
       "Canvas(toolbar=Toolbar(toolitems=[('Home', 'Reset original view', 'home', 'home'), ('Back', 'Back to previous …"
      ]
     },
     "metadata": {},
     "output_type": "display_data"
    },
    {
     "data": {
      "text/plain": [
       "<matplotlib.legend.Legend at 0x7ff84b468fa0>"
      ]
     },
     "execution_count": 2,
     "metadata": {},
     "output_type": "execute_result"
    }
   ],
   "source": [
    "fig, ax = d.plot_data(style=\"errb\")\n",
    "d.plot_alphabeta(ax, truth[\"alpha.YIZ\"], truth[\"beta.YIZ\"], setlims=True, color=\"k\", ls=\"--\", label=\"Truth\") # truth line\n",
    "ax.legend(frameon=False)"
   ]
  },
  {
   "cell_type": "markdown",
   "id": "5a6bf3fe-7522-47c0-8db2-fe4c907b8061",
   "metadata": {},
   "source": [
    "L'ajustement avec `LIRA` peut être réalisé avec la méthode `fit_lira`. La documentation de cette méthode explique la signification des arguments et offre des exemples :\n",
    "\n",
    "```python\n",
    "fit_lira(self, nmix, nsteps, lira_args={})\n",
    "\n",
    "Use the LIRA R package to perform the fit.\n",
    "\n",
    "Parameters\n",
    "----------\n",
    "nmix : int\n",
    "    Number of gaussians in the mixture model;\n",
    "nsteps : int\n",
    "    Number of steps to perform in the MCMC;\n",
    "lira_args : dict\n",
    "    Arguments to pass to LIRA. The syntax is the same\n",
    "    as for the R function.\n",
    "\n",
    "Returns\n",
    "-------\n",
    "chains : DataFrame\n",
    "    The MCMC chains in the parameter space\n",
    "\n",
    "Examples\n",
    "--------\n",
    "d.fit_lira(3, 10_000, lira_args={\"sigma.YIZ.0\": \"prec.dgamma\"} )\n",
    "d.fit_lira(3, 10_000, lira_args={\n",
    "    \"sigma.XIZ.0\": 0.0, \"sigma.YIZ.0\": \"dunif(0.0, 1.0)\"\n",
    "})\n",
    "```\n",
    "\n",
    "Pour l'exemple précédent, en considérant les priors par défaut de LIRA pour tous les paramètres :"
   ]
  },
  {
   "cell_type": "code",
   "execution_count": 3,
   "id": "eba8f08e-3f16-49fe-acec-09c1258f5045",
   "metadata": {},
   "outputs": [
    {
     "name": "stderr",
     "output_type": "stream",
     "text": [
      "R[write to console]: Loading required package: coda\n",
      "\n",
      "R[write to console]: Loading required package: rjags\n",
      "\n",
      "R[write to console]: Linked to JAGS 4.3.0\n",
      "\n",
      "R[write to console]: Loaded modules: basemod,bugs\n",
      "\n"
     ]
    },
    {
     "name": "stdout",
     "output_type": "stream",
     "text": [
      "[1] Running: nsteps=25000, nmix=3\n",
      "[1] \"No threshold detected\"\n"
     ]
    },
    {
     "name": "stderr",
     "output_type": "stream",
     "text": [
      "R[write to console]: module mix loaded\n",
      "\n"
     ]
    },
    {
     "name": "stdout",
     "output_type": "stream",
     "text": [
      "  |**************************************************| 100%\n",
      "\n",
      "Iterations = 6252:31251\n",
      "Thinning interval = 1 \n",
      "Number of chains = 1 \n",
      "Sample size per chain = 25000 \n",
      "\n",
      "1. Empirical mean and standard deviation for each variable,\n",
      "   plus standard error of the mean:\n",
      "\n",
      "                          Mean        SD  Naive SE Time-series SE\n",
      "alpha.YIZ            1.007e+00 1.568e-02 9.919e-05      5.304e-04\n",
      "beta.YIZ             1.009e+00 1.368e-02 8.654e-05      4.428e-04\n",
      "mu.Z.0               1.508e+03 5.172e+03 3.271e+01      1.869e+03\n",
      "mu.Z.0.mixture[2]    1.444e-02 1.140e-01 7.207e-04      8.840e-04\n",
      "mu.Z.0.mixture[3]    8.765e+00 5.766e+03 3.647e+01      1.194e+02\n",
      "pi[1]                9.057e-03 9.097e-03 5.753e-05      2.515e-04\n",
      "pi[2]                9.817e-01 1.301e-02 8.229e-05      3.411e-04\n",
      "pi[3]                9.237e-03 9.418e-03 5.957e-05      2.429e-04\n",
      "sigma.YIZ.0          5.018e-02 2.685e-02 1.698e-04      1.811e-03\n",
      "sigma.Z.0            1.898e+44 4.656e+45 2.944e+43      1.767e+44\n",
      "sigma.Z.0.mixture[2] 1.130e+00 8.121e-02 5.136e-04      6.064e-04\n",
      "sigma.Z.0.mixture[3] 2.053e+41 6.898e+42 4.363e+40      1.412e+41\n",
      "\n",
      "2. Quantiles for each variable:\n",
      "\n",
      "                           2.5%        25%        50%       75%     97.5%\n",
      "alpha.YIZ             9.766e-01  9.962e-01  1.007e+00 1.017e+00 1.038e+00\n",
      "beta.YIZ              9.827e-01  1.000e+00  1.009e+00 1.019e+00 1.036e+00\n",
      "mu.Z.0               -9.379e+03 -2.102e+03  1.972e+03 5.761e+03 9.306e+03\n",
      "mu.Z.0.mixture[2]    -2.082e-01 -6.166e-02  1.463e-02 9.160e-02 2.376e-01\n",
      "mu.Z.0.mixture[3]    -9.502e+03 -4.977e+03 -1.076e+01 5.029e+03 9.510e+03\n",
      "pi[1]                 2.627e-04  2.543e-03  6.268e-03 1.266e-02 3.287e-02\n",
      "pi[2]                 9.485e-01  9.755e-01  9.846e-01 9.912e-01 9.980e-01\n",
      "pi[3]                 1.600e-04  2.595e-03  6.399e-03 1.271e-02 3.523e-02\n",
      "sigma.YIZ.0           9.471e-03  2.738e-02  4.882e-02 6.959e-02 1.051e-01\n",
      "sigma.Z.0             3.345e+00  4.248e+11  3.076e+19 6.244e+24 5.649e+41\n",
      "sigma.Z.0.mixture[2]  9.851e-01  1.074e+00  1.125e+00 1.182e+00 1.303e+00\n",
      "sigma.Z.0.mixture[3]  2.085e+00  3.217e+06  6.256e+14 2.179e+21 4.052e+39\n",
      "\n"
     ]
    }
   ],
   "source": [
    "chains = d.fit_lira(3, 25000)"
   ]
  },
  {
   "cell_type": "markdown",
   "id": "e11d3679-1b26-4301-b2ba-6fa0bc65abb6",
   "metadata": {},
   "source": [
    "`LIRA` donne par défaut des informations intéressantes sur la distribution échantillonnée.\n",
    "On peut l'examiner plus visuellement, par exemple à l'aide de `chainconsumer` [4] :"
   ]
  },
  {
   "cell_type": "code",
   "execution_count": 4,
   "id": "154d4352-ffe3-4f2b-b3c9-fb237a88e3d2",
   "metadata": {},
   "outputs": [
    {
     "data": {
      "application/vnd.jupyter.widget-view+json": {
       "model_id": "8a8a17a03ff64009bf41475d42ae1300",
       "version_major": 2,
       "version_minor": 0
      },
      "text/plain": [
       "Canvas(toolbar=Toolbar(toolitems=[('Home', 'Reset original view', 'home', 'home'), ('Back', 'Back to previous …"
      ]
     },
     "metadata": {},
     "output_type": "display_data"
    },
    {
     "name": "stderr",
     "output_type": "stream",
     "text": [
      "WARNING:chainconsumer:Parameter sigma.YIZ.0 in chain Chain 0 is not constrained\n"
     ]
    }
   ],
   "source": [
    "from chainconsumer import ChainConsumer\n",
    "\n",
    "cc = ChainConsumer()\n",
    "cc.add_chain(chains[[\"alpha.YIZ\", \"beta.YIZ\", \"sigma.YIZ.0\"]]) # only the 3 parameters of interest\n",
    "cc.configure(cmap=\"Spectral_r\", shade_gradient=0.0, shade_alpha=0.3) # prettify!\n",
    "cfig = cc.plotter.plot(figsize=(7, 7), truth=truth)"
   ]
  },
  {
   "cell_type": "markdown",
   "id": "6f0bf84f-4ed0-4818-8874-861a36122585",
   "metadata": {},
   "source": [
    "Et dans l'espace $(x, y)$ d'intérêt :"
   ]
  },
  {
   "cell_type": "code",
   "execution_count": 5,
   "id": "1fc32206-96ca-4928-a0ea-ff689b748729",
   "metadata": {},
   "outputs": [
    {
     "data": {
      "application/vnd.jupyter.widget-view+json": {
       "model_id": "13766298dbe54a6098d23ccc8fa93169",
       "version_major": 2,
       "version_minor": 0
      },
      "text/plain": [
       "Canvas(toolbar=Toolbar(toolitems=[('Home', 'Reset original view', 'home', 'home'), ('Back', 'Back to previous …"
      ]
     },
     "metadata": {},
     "output_type": "display_data"
    },
    {
     "data": {
      "text/plain": [
       "<matplotlib.legend.Legend at 0x7ff839236df0>"
      ]
     },
     "execution_count": 5,
     "metadata": {},
     "output_type": "execute_result"
    }
   ],
   "source": [
    "fig, ax = d.plot_data(style=\"errb\")\n",
    "d.plot_alphabeta(ax, truth[\"alpha.YIZ\"], truth[\"beta.YIZ\"], setlims=True, color=\"k\", ls=\"--\", label=\"Truth\") # truth line\n",
    "d.plot_alphabeta(ax, np.median(chains[\"alpha.YIZ\"]), np.median(chains[\"beta.YIZ\"]), color=\"tab:blue\", label=\"LIRA\") # relation at median of chains\n",
    "d.plot_alphabeta(ax, chains[\"alpha.YIZ\"], chains[\"beta.YIZ\"], color=\"tab:blue\") # chains confidence intervals\n",
    "ax.legend(frameon=False)"
   ]
  },
  {
   "cell_type": "markdown",
   "id": "6dd89fc5-7268-441e-9895-2d91146fc433",
   "metadata": {},
   "source": [
    "Pour changer des options, comme le prior sur un paramètre, il suffit de l'injecter dans la fonction `fit_lira` sous forme du dictionnaire `lira_args`.\n",
    "Ce dictionnaire doit être structuré comme\n",
    "```json\n",
    "{\"nom de la variable dans LIRA\": valeur de la variable dans LIRA}\n",
    "```\n",
    "\n",
    "Par exemple, pour définir :\n",
    "\n",
    "* Le prior sur $\\sigma_{Y|Z}$ comme une distribution uniforme entre 0 et 1 ;\n",
    "* Le prior sur $\\sigma_{X|Z}$ comme une distribution de Dirac en 0 (i.e. fixer $\\sigma_{X|Z} = 0$),\n",
    "\n",
    "l'appel à `LIRA` s'écrit (en `R`):\n",
    "```R\n",
    "lira(..., sigma.YIZ.0=\"dunif(0.0, 1.0)\", sigma.XIZ.0=0.0)\n",
    "```\n",
    "En `python`:\n",
    "```python\n",
    "chains = d.fit_lira(1, 25000, lira_args={\"sigma.YIZ.0\": \"dunif(0.0, 1.0)\", \"sigma.XIZ.0\": 0.0})\n",
    "```"
   ]
  },
  {
   "cell_type": "markdown",
   "id": "3b088503-6637-464c-b451-d22f0b6a67b1",
   "metadata": {},
   "source": [
    "# Échantillons d'amas\n",
    "\n",
    "Le module `cluster_catalog.py` offre des outils pour générer aléatoirement des échantillons d'amas pour en étudier la relation d'échelle.\n",
    "Ces échantillons peuvent ensuite être transférés au module `fisc.py` pour l'ajustement avec LIRA.\n",
    "\n",
    "La classe `ClusterCatalog` permet de construire un échantillon d'amas. Elle peut être initialisée de plusieurs façons, selon les propriétés recherchées pour l'échantillon :"
   ]
  },
  {
   "cell_type": "code",
   "execution_count": 6,
   "id": "a1ebc551-5234-4e83-8ed7-270f425a16b6",
   "metadata": {},
   "outputs": [
    {
     "data": {
      "application/vnd.jupyter.widget-view+json": {
       "model_id": "12975220d4cf4c41ac0560810e39e665",
       "version_major": 2,
       "version_minor": 0
      },
      "text/plain": [
       "Canvas(toolbar=Toolbar(toolitems=[('Home', 'Reset original view', 'home', 'home'), ('Back', 'Back to previous …"
      ]
     },
     "metadata": {},
     "output_type": "display_data"
    },
    {
     "data": {
      "application/vnd.jupyter.widget-view+json": {
       "model_id": "18c533b63fc44eebbbb240754095acf4",
       "version_major": 2,
       "version_minor": 0
      },
      "text/plain": [
       "Canvas(toolbar=Toolbar(toolitems=[('Home', 'Reset original view', 'home', 'home'), ('Back', 'Back to previous …"
      ]
     },
     "metadata": {},
     "output_type": "display_data"
    },
    {
     "data": {
      "text/plain": [
       "Text(0.5, 0.98, 'From table')"
      ]
     },
     "execution_count": 6,
     "metadata": {},
     "output_type": "execute_result"
    }
   ],
   "source": [
    "import cluster_catalog\n",
    "\n",
    "# 1) À partir de valeurs de z et M_500\n",
    "z = np.random.uniform(0.5, 0.9, 200)\n",
    "M_500 = np.random.uniform(3e14, 11e14, 200)\n",
    "catalog = cluster_catalog.ClusterCatalog(z, M_500)\n",
    "fig, ax = catalog.plot_mz()\n",
    "fig.suptitle(\"From $M$ and $z$ values\")\n",
    "\n",
    "# 2) À partir d'une table `astropy.table` contenant z et M_500\n",
    "from astropy.table import Table\n",
    "t = Table.read(\"./catalog_universe_1e5.fits\")\n",
    "# Ce fichier contient un échantillon de 10^5 amas suivant une fonction de masse Tinker+10,\n",
    "# avec 2e14 < M500/Msun < 2e15, 0 < z < 1.2\n",
    "catalog = cluster_catalog.ClusterCatalog.from_table(t)\n",
    "fig, ax = catalog.plot_mz()\n",
    "fig.suptitle(\"From table\")\n",
    "\n",
    "# 3) À partir d'une fonction de masse\n",
    "# Cette méthode ne fonctionne plus avec la nouvelle version de la librairie hmf :(\n",
    "# Elle n'était de toute façon pas optimale, il serait mieux de réécrire un générateur\n",
    "# basé sur de l'inverse CDF sampling"
   ]
  },
  {
   "cell_type": "markdown",
   "id": "f5b81cd3-dcdd-4a3e-a6d8-355eb889b4e4",
   "metadata": {},
   "source": [
    "Les valeurs d'observable associées peuvent être calculées, en supposant une relation d'échelle en loi de puissance dont les paramètres doivent être choisis par l'utilisateur.\n",
    "Par exemple, pour calculer les valeurs de $Y_{500}$ à partir de la relation d'échelle *Planck* :\n",
    "\n",
    "$$ E^{-2/3}(z) D_A^2 \\frac{Y_{500}}{10^{-4} \\, {\\rm Mpc^2}} = 10^{-0.19} \\times \\left[\\frac{M_{500}}{6 \\times 10^{14} \\, M_\\odot}\\right]^{1.79} \\pm 0.075$$"
   ]
  },
  {
   "cell_type": "code",
   "execution_count": 7,
   "id": "8c6972f1-20f8-4d7a-9204-36797777e393",
   "metadata": {},
   "outputs": [],
   "source": [
    "catalog.to_observable(alpha=-0.19, beta=1.79, sigma=0.075)"
   ]
  },
  {
   "cell_type": "markdown",
   "id": "7c13e257-714a-4ccd-812d-5ecb6f85782c",
   "metadata": {},
   "source": [
    "On peut également ajouter des incertitudes de mesure aux valeurs d'observable et de masse. Par exemple, en considérant les grandeurs observées $(x, y)$ comme des estimateurs dispersés avec une incertitude de 10%, avec une corrélation entre 80% et 85% :"
   ]
  },
  {
   "cell_type": "code",
   "execution_count": 8,
   "id": "d45eeaea-f9e2-4842-bd8f-1fdc7ca56920",
   "metadata": {},
   "outputs": [],
   "source": [
    "catalog.measurement_errors(err_frac_Y=(0.1, 0.0), err_frac_M=(0.1, 0.0), corr=(0.8, 0.85))"
   ]
  },
  {
   "cell_type": "markdown",
   "id": "3ade10e2-806e-43f7-a220-e4ebd93db0e0",
   "metadata": {},
   "source": [
    "## Sélection de sous-échantillons\n",
    "\n",
    "Il est aussi possible d'isoler seulement une partie d'un échantillon selon les valeurs d'observable et de redshift.\n",
    "Pour cela, il faut utiliser la classe `Box` du module `cluster_catalog.py` et la méthode `select_from_boxes` de la classe `ClusterCatalog`.\n",
    "Par exemple, pour selectionner à partir de l'échantillon précédent (contenu dans `./catalog_universe_1e5.fits`) un sous-échantillon :\n",
    "\n",
    "* De 100 amas\n",
    "* Dont les valeurs de redshift sont compris entre 0.5 et 0.9 (gamme couverte par le LPSZ de NIKA2)\n",
    "* Dont les valeurs d'observable $\\tilde{Y}$ sont comprises entre 0.21 et 2.2 (gamme couverte par le LPSZ de NIKA2)\n",
    "\n",
    "Il faut appliquer l'algorithme suivant :\n",
    "\n",
    "1. Lire le catalogue d'amas pour obtenir les valeurs de masse et redshift\n",
    "2. Appliquer une relation d'échelle pour obtenir des valeurs d'observable associées à chaque amas\n",
    "3. Créer un objet `Box` correspondant à l'intervalle en redshift er observable voulu\n",
    "4. Sélectionner 100 amas remplissant les conditions parmi l'échantillon initial"
   ]
  },
  {
   "cell_type": "code",
   "execution_count": 9,
   "id": "de4811a3-922d-4732-8fc5-8863b512db27",
   "metadata": {},
   "outputs": [
    {
     "data": {
      "application/vnd.jupyter.widget-view+json": {
       "model_id": "670ecbd126344ff6a2f855f1a589e0e5",
       "version_major": 2,
       "version_minor": 0
      },
      "text/plain": [
       "Canvas(toolbar=Toolbar(toolitems=[('Home', 'Reset original view', 'home', 'home'), ('Back', 'Back to previous …"
      ]
     },
     "metadata": {},
     "output_type": "display_data"
    }
   ],
   "source": [
    "import numpy as np\n",
    "from astropy.table import Table\n",
    "import cluster_catalog\n",
    "\n",
    "np.random.seed(123)\n",
    "truth = {\"alpha.YIZ\": -0.19, \"beta.YIZ\": 1.79, \"sigma.YIZ.0\": 0.075}  # Relation d'échelle Planck\n",
    "\n",
    "# 1.\n",
    "t = Table.read(\"./catalog_universe_1e5.fits\")\n",
    "catalog = cluster_catalog.ClusterCatalog.from_table(t)\n",
    "\n",
    "# 2.\n",
    "catalog.to_observable(alpha=truth[\"alpha.YIZ\"], beta=truth[\"beta.YIZ\"], sigma=truth[\"sigma.YIZ.0\"])\n",
    "catalog.measurement_errors(err_frac_Y=(0.1, 0.0), err_frac_M=(0.1, 0.0), corr=(0.8, 0.85))\n",
    "\n",
    "# 3.\n",
    "mybox = cluster_catalog.Box(0.5, 0.9, 0.21, 2.2)\n",
    "\n",
    "# 4.\n",
    "new_catalog = catalog.select_from_boxes([mybox], [50])\n",
    "\n",
    "fig, ax = new_catalog.plot_mz()"
   ]
  },
  {
   "cell_type": "markdown",
   "id": "7ef6497e-bc0e-45bd-8cfc-a57a6f711680",
   "metadata": {},
   "source": [
    "Pour ajuster la relation d'échelle de cet échantillon, il suffit de créer une instance `fisc.Data` à partir du catalogue."
   ]
  },
  {
   "cell_type": "code",
   "execution_count": 10,
   "id": "411191ee-6ad6-4462-af77-132b1072080f",
   "metadata": {},
   "outputs": [
    {
     "name": "stdout",
     "output_type": "stream",
     "text": [
      "[1] Running: nsteps=25000, nmix=3\n",
      "[1] \"Threshold detected\"\n",
      "  |**************************************************| 100%\n",
      "\n",
      "Iterations = 6252:31251\n",
      "Thinning interval = 1 \n",
      "Number of chains = 1 \n",
      "Sample size per chain = 25000 \n",
      "\n",
      "1. Empirical mean and standard deviation for each variable,\n",
      "   plus standard error of the mean:\n",
      "\n",
      "                           Mean        SD  Naive SE Time-series SE\n",
      "alpha.YIZ            -1.201e-01 9.210e-02 5.825e-04      6.982e-03\n",
      "beta.YIZ              2.921e+00 6.421e-01 4.061e-03      3.996e-02\n",
      "mu.Z.0               -1.666e-01 2.938e-02 1.858e-04      1.686e-03\n",
      "mu.Z.0.mixture[2]     1.271e+01 5.758e+03 3.641e+01      4.350e+01\n",
      "mu.Z.0.mixture[3]     1.689e+02 1.230e+02 7.780e-01      9.895e+01\n",
      "pi[1]                 9.469e-01 9.304e-02 5.885e-04      1.454e-02\n",
      "pi[2]                 1.905e-02 1.837e-02 1.162e-04      4.540e-04\n",
      "pi[3]                 3.407e-02 9.162e-02 5.794e-04      1.560e-02\n",
      "sigma.YIZ.0           8.022e-02 4.163e-02 2.633e-04      2.524e-03\n",
      "sigma.Z.0             1.052e-01 4.789e-02 3.029e-04      1.499e-03\n",
      "sigma.Z.0.mixture[2]  6.813e+92 2.332e+94 1.475e+92      6.601e+92\n",
      "sigma.Z.0.mixture[3]  7.177e+28 1.841e+30 1.164e+28      8.340e+28\n",
      "\n",
      "2. Quantiles for each variable:\n",
      "\n",
      "                           2.5%        25%        50%        75%      97.5%\n",
      "alpha.YIZ            -2.750e-01 -1.781e-01 -1.327e-01 -7.575e-02  1.080e-01\n",
      "beta.YIZ              2.031e+00  2.498e+00  2.811e+00  3.198e+00  4.535e+00\n",
      "mu.Z.0               -2.132e-01 -1.819e-01 -1.677e-01 -1.532e-01 -1.240e-01\n",
      "mu.Z.0.mixture[2]    -9.495e+03 -4.899e+03  9.663e+00  4.971e+03  9.484e+03\n",
      "mu.Z.0.mixture[3]    -5.763e+00  2.793e+01  1.735e+02  2.635e+02  3.828e+02\n",
      "pi[1]                 7.628e-01  9.437e-01  9.652e-01  9.805e-01  9.949e-01\n",
      "pi[2]                 5.639e-04  5.684e-03  1.336e-02  2.710e-02  6.615e-02\n",
      "pi[3]                 4.601e-04  6.104e-03  1.473e-02  3.063e-02  2.167e-01\n",
      "sigma.YIZ.0           2.148e-02  4.930e-02  7.458e-02  1.031e-01  1.747e-01\n",
      "sigma.Z.0             5.985e-02  9.063e-02  1.043e-01  1.186e-01  1.497e-01\n",
      "sigma.Z.0.mixture[2]  1.381e+16  2.704e+30  5.938e+38  5.903e+47  4.750e+80\n",
      "sigma.Z.0.mixture[3]  8.697e-02  1.815e+06  1.818e+13  2.963e+19  4.391e+27\n",
      "\n"
     ]
    },
    {
     "data": {
      "application/vnd.jupyter.widget-view+json": {
       "model_id": "c2a76822e6d0462b99af79ef3c7e4d25",
       "version_major": 2,
       "version_minor": 0
      },
      "text/plain": [
       "Canvas(toolbar=Toolbar(toolitems=[('Home', 'Reset original view', 'home', 'home'), ('Back', 'Back to previous …"
      ]
     },
     "metadata": {},
     "output_type": "display_data"
    },
    {
     "data": {
      "application/vnd.jupyter.widget-view+json": {
       "model_id": "01fcf84edf1b45ad8a1a67127b3acf3e",
       "version_major": 2,
       "version_minor": 0
      },
      "text/plain": [
       "Canvas(toolbar=Toolbar(toolitems=[('Home', 'Reset original view', 'home', 'home'), ('Back', 'Back to previous …"
      ]
     },
     "metadata": {},
     "output_type": "display_data"
    }
   ],
   "source": [
    "from chainconsumer import ChainConsumer\n",
    "from fisc import Data\n",
    "\n",
    "d = Data.from_table(\n",
    "    new_catalog(),\n",
    "    x_obs=\"log_M_tilde\",\n",
    "    y_obs=\"log_Y_tilde\",\n",
    "    x_err=\"err_log_M_tilde\",\n",
    "    y_err=\"err_log_Y_tilde\",\n",
    "    y_threshold=\"log_Y_tilde_threshold\", # voir Notes\n",
    "    corr=\"corr\",\n",
    ")\n",
    "\n",
    "chains = d.fit_lira(3, 25000)\n",
    "\n",
    "fig, ax = d.plot_data(style=\"ellipse\")\n",
    "d.plot_alphabeta(ax, truth[\"alpha.YIZ\"], truth[\"beta.YIZ\"], setlims=True, color=\"k\", ls=\"--\", label=\"Truth\") # truth line\n",
    "d.plot_alphabeta(ax, np.median(chains[\"alpha.YIZ\"]), np.median(chains[\"beta.YIZ\"]), color=\"tab:blue\", label=\"LIRA\") # relation at median of chains\n",
    "d.plot_alphabeta(ax, chains[\"alpha.YIZ\"], chains[\"beta.YIZ\"], color=\"tab:blue\") # chains confidence intervals\n",
    "ax.legend(frameon=False)\n",
    "\n",
    "cc = ChainConsumer()\n",
    "cc.add_chain(chains[[\"alpha.YIZ\", \"beta.YIZ\", \"sigma.YIZ.0\"]]) # only the 3 parameters of interest\n",
    "cc.configure(cmap=\"Spectral_r\", shade_gradient=0.0, shade_alpha=0.3) # prettify!\n",
    "cfig = cc.plotter.plot(figsize=(7, 7), truth=truth)"
   ]
  },
  {
   "cell_type": "markdown",
   "id": "598957d1-1ce3-4c34-be07-bcb906d20ff1",
   "metadata": {},
   "source": [
    "## Sélection dans plusieurs boîtes : LPSZ\n",
    "\n",
    "Pour sélectionner dans plusieurs boîtes, il suffit de créer plusieurs objets `Box`. Les 10 boîtes du LPSZ sont déjà créées dans `cluster_catalog.boxes_lpsz`.\n",
    "La cellule de code suivante réalise une analyse complète telle que présentée en [3], section 7.5.1 (schématisée en figure 7.3) :\n",
    "\n",
    "1. Sélection d'un échantillon suivant une fonction de masse (lue à partir du catalogue déjà existant)\n",
    "2. Application d'une relation d'échelle fiducielle, correspondant à celle de *Planck*, + incertitudes de mesure\n",
    "3. Sélection en boîtes du LPSZ\n",
    "4. Ajustement de la relation d'échelle"
   ]
  },
  {
   "cell_type": "code",
   "execution_count": 11,
   "id": "7a4b2a09-6e24-4300-a0e5-4e458bc4e969",
   "metadata": {},
   "outputs": [
    {
     "name": "stdout",
     "output_type": "stream",
     "text": [
      "Selection: Could only take 4 clusters (instead of 5) with 1.4 < y < 2.2 and 0.5 < z < 0.7.\n",
      "Selection: Could only take 0 clusters (instead of 5) with 1.4 < y < 2.2 and 0.7 < z < 0.9.\n",
      "[1] Running: nsteps=25000, nmix=3\n",
      "[1] \"No threshold detected\"\n",
      "  |**************************************************| 100%\n",
      "\n",
      "Iterations = 6252:31251\n",
      "Thinning interval = 1 \n",
      "Number of chains = 1 \n",
      "Sample size per chain = 25000 \n",
      "\n",
      "1. Empirical mean and standard deviation for each variable,\n",
      "   plus standard error of the mean:\n",
      "\n",
      "                           Mean        SD  Naive SE Time-series SE\n",
      "alpha.YIZ            -2.174e-01 1.774e-02 1.122e-04      5.576e-04\n",
      "beta.YIZ              1.630e+00 1.507e-01 9.533e-04      6.676e-03\n",
      "mu.Z.0               -4.819e+01 5.772e+03 3.651e+01      4.285e+01\n",
      "mu.Z.0.mixture[2]    -1.009e-02 2.791e-02 1.765e-04      6.745e-04\n",
      "mu.Z.0.mixture[3]    -2.970e+01 5.762e+03 3.644e+01      4.238e+01\n",
      "pi[1]                 2.226e-02 2.046e-02 1.294e-04      5.355e-04\n",
      "pi[2]                 9.563e-01 2.892e-02 1.829e-04      7.468e-04\n",
      "pi[3]                 2.143e-02 2.074e-02 1.312e-04      5.358e-04\n",
      "sigma.YIZ.0           5.383e-02 2.592e-02 1.639e-04      1.501e-03\n",
      "sigma.Z.0             9.790e+40 2.131e+42 1.348e+40      7.381e+40\n",
      "sigma.Z.0.mixture[2]  1.518e-01 2.372e-02 1.500e-04      7.396e-04\n",
      "sigma.Z.0.mixture[3]  4.029e+47 6.242e+48 3.948e+46      2.823e+47\n",
      "\n",
      "2. Quantiles for each variable:\n",
      "\n",
      "                           2.5%        25%        50%        75%      97.5%\n",
      "alpha.YIZ            -2.525e-01 -2.290e-01 -2.177e-01 -2.059e-01 -1.812e-01\n",
      "beta.YIZ              1.342e+00  1.530e+00  1.628e+00  1.725e+00  1.940e+00\n",
      "mu.Z.0               -9.503e+03 -5.087e+03 -4.617e+01  4.906e+03  9.488e+03\n",
      "mu.Z.0.mixture[2]    -6.483e-02 -2.888e-02 -1.004e-02  8.689e-03  4.475e-02\n",
      "mu.Z.0.mixture[3]    -9.510e+03 -5.005e+03 -2.203e+01  4.967e+03  9.461e+03\n",
      "pi[1]                 5.572e-04  7.194e-03  1.619e-02  3.125e-02  7.493e-02\n",
      "pi[2]                 8.854e-01  9.403e-01  9.623e-01  9.781e-01  9.941e-01\n",
      "pi[3]                 6.001e-04  6.361e-03  1.567e-02  2.952e-02  7.570e-02\n",
      "sigma.YIZ.0           1.027e-02  3.323e-02  5.427e-02  7.242e-02  1.044e-01\n",
      "sigma.Z.0             1.024e+00  5.834e+03  5.145e+07  1.625e+20  4.678e+36\n",
      "sigma.Z.0.mixture[2]  1.103e-01  1.350e-01  1.502e-01  1.667e-01  2.029e-01\n",
      "sigma.Z.0.mixture[3]  3.205e+00  1.004e+05  8.156e+14  9.109e+24  1.590e+46\n",
      "\n"
     ]
    },
    {
     "data": {
      "application/vnd.jupyter.widget-view+json": {
       "model_id": "14736decee86411da980349ac955c248",
       "version_major": 2,
       "version_minor": 0
      },
      "text/plain": [
       "Canvas(toolbar=Toolbar(toolitems=[('Home', 'Reset original view', 'home', 'home'), ('Back', 'Back to previous …"
      ]
     },
     "metadata": {},
     "output_type": "display_data"
    },
    {
     "data": {
      "application/vnd.jupyter.widget-view+json": {
       "model_id": "426734741c7b4c5aa39a092a085fded7",
       "version_major": 2,
       "version_minor": 0
      },
      "text/plain": [
       "Canvas(toolbar=Toolbar(toolitems=[('Home', 'Reset original view', 'home', 'home'), ('Back', 'Back to previous …"
      ]
     },
     "metadata": {},
     "output_type": "display_data"
    },
    {
     "data": {
      "application/vnd.jupyter.widget-view+json": {
       "model_id": "5791c42c8b6d403c804fff21104b1ca5",
       "version_major": 2,
       "version_minor": 0
      },
      "text/plain": [
       "Canvas(toolbar=Toolbar(toolitems=[('Home', 'Reset original view', 'home', 'home'), ('Back', 'Back to previous …"
      ]
     },
     "metadata": {},
     "output_type": "display_data"
    },
    {
     "name": "stderr",
     "output_type": "stream",
     "text": [
      "WARNING:chainconsumer:Parameter sigma.YIZ.0 in chain Chain 0 is not constrained\n"
     ]
    }
   ],
   "source": [
    "import numpy as np\n",
    "from astropy.table import Table\n",
    "from chainconsumer import ChainConsumer\n",
    "from fisc import Data\n",
    "import cluster_catalog\n",
    "\n",
    "truth = {\"alpha.YIZ\": -0.19, \"beta.YIZ\": 1.79, \"sigma.YIZ.0\": 0.075}  # Relation d'échelle Planck\n",
    "np.random.seed(123)\n",
    "\n",
    "# 1.\n",
    "t = Table.read(\"./catalog_universe_1e5.fits\")\n",
    "catalog = cluster_catalog.ClusterCatalog.from_table(t)\n",
    "\n",
    "# 2.\n",
    "catalog.to_observable(alpha=truth[\"alpha.YIZ\"], beta=truth[\"beta.YIZ\"], sigma=truth[\"sigma.YIZ.0\"])\n",
    "catalog.measurement_errors(err_frac_Y=(0.1, 0.0), err_frac_M=(0.1, 0.0), corr=(0.8, 0.85))\n",
    "\n",
    "# 3.\n",
    "boxes = cluster_catalog.boxes_lpsz  # les boîtes du LPSZ sont déjà écrites\n",
    "new_catalog = catalog.select_from_boxes(boxes, [5 for _ in range(len(boxes))])  # 5 amas par boîte\n",
    "\n",
    "# 4.\n",
    "d = Data.from_table(\n",
    "    new_catalog(),\n",
    "    x_obs=\"log_M_tilde\",\n",
    "    y_obs=\"log_Y_tilde\",\n",
    "    x_err=\"err_log_M_tilde\",\n",
    "    y_err=\"err_log_Y_tilde\",\n",
    "    y_threshold=None, # voir Notes\n",
    "    corr=\"corr\",\n",
    ")\n",
    "\n",
    "chains = d.fit_lira(3, 25000)\n",
    "\n",
    "# Plot échantillon dans le plan (masse, redshift)\n",
    "fig, ax = new_catalog.plot_mz()\n",
    "\n",
    "# Plot données / relation d'échelle réelle / relation d'échelle reconstruite\n",
    "fig, ax = d.plot_data(style=\"ellipse\")\n",
    "d.plot_alphabeta(ax, truth[\"alpha.YIZ\"], truth[\"beta.YIZ\"], setlims=True, color=\"k\", ls=\"--\", label=\"Truth\") # truth line\n",
    "d.plot_alphabeta(ax, np.median(chains[\"alpha.YIZ\"]), np.median(chains[\"beta.YIZ\"]), color=\"tab:blue\", label=\"LIRA\") # relation at median of chains\n",
    "d.plot_alphabeta(ax, chains[\"alpha.YIZ\"], chains[\"beta.YIZ\"], color=\"tab:blue\") # chains confidence intervals\n",
    "ax.legend(frameon=False)\n",
    "\n",
    "# Corner plot distribution postérieure\n",
    "cc = ChainConsumer()\n",
    "cc.add_chain(chains[[\"alpha.YIZ\", \"beta.YIZ\", \"sigma.YIZ.0\"]]) # only the 3 parameters of interest\n",
    "cc.configure(cmap=\"Spectral_r\", shade_gradient=0.0, shade_alpha=0.3) # prettify!\n",
    "cfig = cc.plotter.plot(figsize=(7, 7), truth=truth)"
   ]
  },
  {
   "cell_type": "markdown",
   "id": "82dd8e8c-852f-4f83-adc5-822aaaf1bf0f",
   "metadata": {},
   "source": [
    "## Notes\n",
    "\n",
    "Une sélection basée sur la valeur d'observable a pour conséquence un biais dans la relation d'échelle, connu sous le nom de biais de Malmquist.\n",
    "Si la sélection est faite \"dans une seule boite\" (i.e. la sélection est seulement une coupure en observable), la valeur du seuil peut être utilisée pour corriger de ce biais dans la modélisation probabiliste de la relation d'échelle (voir explication en section 7.2.2 de [3]).\n",
    "Pour cette raison, lors de l'appel de la méthode `select_from_boxes`, la limite inférieure de la (des) boîte(s) est stockée dans la variable `log_Y_tilde_threshold`.\n",
    "\n",
    "Comme montré dans [3] (section 7.5.2), cette modélisation est inadaptée pour une sélection dans plusieurs boîtes.\n",
    "Par conséquent, dans le cas d'une telle sélection, il est utile de réécrire la variable `log_Y_tilde_threshold` à `None`."
   ]
  },
  {
   "cell_type": "markdown",
   "id": "dcb9e75f-e374-4987-9597-8ce4b985df2d",
   "metadata": {
    "tags": []
   },
   "source": [
    "# Références\n",
    "\n",
    "[1] M. Sereno, Manuel utilisateur de `LIRA` en `R` : https://cran.r-project.org/web/packages/lira/lira.pdf\n",
    "\n",
    "[2] M. Sereno, Description scientifique du fonctionnement de `LIRA` : https://ui.adsabs.harvard.edu/abs/2016MNRAS.455.2149S/abstract\n",
    "\n",
    "[3] F. Kéruzoré, Manuscrit de thèse, https://tel.archives-ouvertes.fr/tel-03555821\n",
    "\n",
    "[4] Documentation ChainConsumer, https://samreay.github.io/ChainConsumer/"
   ]
  },
  {
   "cell_type": "code",
   "execution_count": null,
   "id": "0cab278c-01b0-47ee-aa3f-68cb92247399",
   "metadata": {},
   "outputs": [],
   "source": []
  }
 ],
 "metadata": {
  "kernelspec": {
   "display_name": "Python 3 (ipykernel)",
   "language": "python",
   "name": "python3"
  },
  "language_info": {
   "codemirror_mode": {
    "name": "ipython",
    "version": 3
   },
   "file_extension": ".py",
   "mimetype": "text/x-python",
   "name": "python",
   "nbconvert_exporter": "python",
   "pygments_lexer": "ipython3",
   "version": "3.9.5"
  }
 },
 "nbformat": 4,
 "nbformat_minor": 5
}
